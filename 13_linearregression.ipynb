{
 "cells": [
  {
   "cell_type": "code",
   "execution_count": 1,
   "metadata": {},
   "outputs": [],
   "source": [
    "import numpy as np\n",
    "from scipy.stats import uniform, norm, f, t\n",
    "import pandas as pd\n",
    "import statsmodels.api as sm\n",
    "np.random.seed(314) \n"
   ]
  },
  {
   "cell_type": "code",
   "execution_count": 7,
   "metadata": {},
   "outputs": [],
   "source": [
    "n = 12\n",
    "x_1 = uniform.rvs(loc = -1, scale = 2, size = n)\n",
    "x_2 = uniform.rvs(loc = -3, scale = 4, size = n)\n",
    "x_3 = uniform.rvs(loc = 1, scale = 9, size = n)\n",
    "x_4 = uniform.rvs(loc = 1, scale = 9, size = n)\n",
    "#x_5 = uniform.rvs(loc = -4, scale = 3, size = n)\n",
    "\n",
    "model_error = norm.rvs(loc=0, scale = 1, size= n)\n",
    "y = 8 + 4* x_1 -3*x_2 +0.5*x_3+3*x_4 + model_error"
   ]
  },
  {
   "cell_type": "code",
   "execution_count": 8,
   "metadata": {},
   "outputs": [],
   "source": [
    "X = pd.DataFrame({\"x_1\":x_1,\"x_2\":x_2,\"x_3\":x_3,\"x_4\":x_4})\n",
    "X = sm.add_constant(X)"
   ]
  },
  {
   "attachments": {},
   "cell_type": "markdown",
   "metadata": {},
   "source": [
    "df residual = no. observations - no. parameters (intercept is counted)\n",
    "\n",
    "df model = no. regressors (intercept is not counted)"
   ]
  },
  {
   "cell_type": "code",
   "execution_count": 28,
   "metadata": {},
   "outputs": [
    {
     "name": "stdout",
     "output_type": "stream",
     "text": [
      "dof_res: 7, dof_model: 4\n"
     ]
    }
   ],
   "source": [
    "dof_res = len(X)-len(X.columns)\n",
    "dof_model = len([col for col in X.columns if col!=\"const\"])\n",
    "print(\"dof_res: {}, dof_model: {}\".format(dof_res, dof_model))"
   ]
  },
  {
   "cell_type": "code",
   "execution_count": 10,
   "metadata": {},
   "outputs": [
    {
     "name": "stdout",
     "output_type": "stream",
     "text": [
      "                            OLS Regression Results                            \n",
      "==============================================================================\n",
      "Dep. Variable:                      y   R-squared:                       0.992\n",
      "Model:                            OLS   Adj. R-squared:                  0.988\n",
      "Method:                 Least Squares   F-statistic:                     223.5\n",
      "Date:                Thu, 08 Jun 2023   Prob (F-statistic):           1.85e-07\n",
      "Time:                        16:59:39   Log-Likelihood:                -12.256\n",
      "No. Observations:                  12   AIC:                             34.51\n",
      "Df Residuals:                       7   BIC:                             36.94\n",
      "Df Model:                           4                                         \n",
      "Covariance Type:            nonrobust                                         \n",
      "==============================================================================\n",
      "                 coef    std err          t      P>|t|      [0.025      0.975]\n",
      "------------------------------------------------------------------------------\n",
      "const          9.1365      1.166      7.837      0.000       6.380      11.893\n",
      "x_1            4.0844      0.599      6.813      0.000       2.667       5.502\n",
      "x_2           -3.2266      0.279    -11.551      0.000      -3.887      -2.566\n",
      "x_3            0.2946      0.115      2.558      0.038       0.022       0.567\n",
      "x_4            2.9358      0.129     22.700      0.000       2.630       3.242\n",
      "==============================================================================\n",
      "Omnibus:                        1.286   Durbin-Watson:                   1.866\n",
      "Prob(Omnibus):                  0.526   Jarque-Bera (JB):                0.280\n",
      "Skew:                           0.370   Prob(JB):                        0.869\n",
      "Kurtosis:                       3.111   Cond. No.                         37.1\n",
      "==============================================================================\n",
      "\n",
      "Notes:\n",
      "[1] Standard Errors assume that the covariance matrix of the errors is correctly specified.\n"
     ]
    },
    {
     "name": "stderr",
     "output_type": "stream",
     "text": [
      "c:\\Users\\pablo\\Documents\\clean_projects\\statistics\\myenv\\lib\\site-packages\\scipy\\stats\\_stats_py.py:1736: UserWarning: kurtosistest only valid for n>=20 ... continuing anyway, n=12\n",
      "  warnings.warn(\"kurtosistest only valid for n>=20 ... continuing \"\n"
     ]
    }
   ],
   "source": [
    "est = sm.OLS(y,X)\n",
    "est_fit = est.fit()\n",
    "print(est_fit.summary())"
   ]
  },
  {
   "cell_type": "code",
   "execution_count": 25,
   "metadata": {},
   "outputs": [
    {
     "data": {
      "text/html": [
       "<div>\n",
       "<style scoped>\n",
       "    .dataframe tbody tr th:only-of-type {\n",
       "        vertical-align: middle;\n",
       "    }\n",
       "\n",
       "    .dataframe tbody tr th {\n",
       "        vertical-align: top;\n",
       "    }\n",
       "\n",
       "    .dataframe thead th {\n",
       "        text-align: right;\n",
       "    }\n",
       "</style>\n",
       "<table border=\"1\" class=\"dataframe\">\n",
       "  <thead>\n",
       "    <tr style=\"text-align: right;\">\n",
       "      <th></th>\n",
       "      <th>t</th>\n",
       "      <th>p&gt;|t|</th>\n",
       "      <th>ci_inf</th>\n",
       "      <th>ci_sum</th>\n",
       "    </tr>\n",
       "  </thead>\n",
       "  <tbody>\n",
       "    <tr>\n",
       "      <th>const</th>\n",
       "      <td>7.836539</td>\n",
       "      <td>1.039674e-04</td>\n",
       "      <td>6.379641</td>\n",
       "      <td>11.893417</td>\n",
       "    </tr>\n",
       "    <tr>\n",
       "      <th>x_1</th>\n",
       "      <td>6.813254</td>\n",
       "      <td>2.501774e-04</td>\n",
       "      <td>2.666868</td>\n",
       "      <td>5.501962</td>\n",
       "    </tr>\n",
       "    <tr>\n",
       "      <th>x_2</th>\n",
       "      <td>-11.550692</td>\n",
       "      <td>8.210901e-06</td>\n",
       "      <td>-3.887145</td>\n",
       "      <td>-2.566063</td>\n",
       "    </tr>\n",
       "    <tr>\n",
       "      <th>x_3</th>\n",
       "      <td>2.557784</td>\n",
       "      <td>3.767323e-02</td>\n",
       "      <td>0.022247</td>\n",
       "      <td>0.566946</td>\n",
       "    </tr>\n",
       "    <tr>\n",
       "      <th>x_4</th>\n",
       "      <td>22.699612</td>\n",
       "      <td>8.154774e-08</td>\n",
       "      <td>2.630015</td>\n",
       "      <td>3.241670</td>\n",
       "    </tr>\n",
       "  </tbody>\n",
       "</table>\n",
       "</div>"
      ],
      "text/plain": [
       "               t         p>|t|    ci_inf     ci_sum\n",
       "const   7.836539  1.039674e-04  6.379641  11.893417\n",
       "x_1     6.813254  2.501774e-04  2.666868   5.501962\n",
       "x_2   -11.550692  8.210901e-06 -3.887145  -2.566063\n",
       "x_3     2.557784  3.767323e-02  0.022247   0.566946\n",
       "x_4    22.699612  8.154774e-08  2.630015   3.241670"
      ]
     },
     "execution_count": 25,
     "metadata": {},
     "output_type": "execute_result"
    }
   ],
   "source": [
    "lim_inf = t.ppf(0.025,est_fit.df_resid)*est_fit.bse+est_fit.params\n",
    "lim_sup = t.ppf(0.975,est_fit.df_resid)*est_fit.bse+est_fit.params\n",
    "tvalue= est_fit.params/est_fit.bse\n",
    "pt = tvalue.apply(lambda x: 2 - 2*t.cdf(abs(x),est_fit.df_resid))\n",
    "pd.DataFrame({\"t\":tvalue, \"p>|t|\":pt,\"ci_inf\":lim_inf,\"ci_sum\":lim_sup})"
   ]
  },
  {
   "cell_type": "code",
   "execution_count": 19,
   "metadata": {},
   "outputs": [],
   "source": []
  },
  {
   "cell_type": "code",
   "execution_count": 24,
   "metadata": {},
   "outputs": [
    {
     "data": {
      "text/plain": [
       "{'model_sse': 1703.3020971378014,\n",
       " 'residuals_sse': 27.188903498525477,\n",
       " 'total_sse': 1730.4910006363252}"
      ]
     },
     "execution_count": 24,
     "metadata": {},
     "output_type": "execute_result"
    }
   ],
   "source": [
    "{\"model_sse\":((est_fit.fittedvalues-y.mean())**2).sum(),\n",
    "\"residuals_sse\":((est_fit.fittedvalues-y)**2).sum(),\n",
    "\"total_sse\":((y.mean()-y)**2).sum()}"
   ]
  },
  {
   "cell_type": "code",
   "execution_count": 6,
   "metadata": {},
   "outputs": [
    {
     "data": {
      "text/html": [
       "<div>\n",
       "<style scoped>\n",
       "    .dataframe tbody tr th:only-of-type {\n",
       "        vertical-align: middle;\n",
       "    }\n",
       "\n",
       "    .dataframe tbody tr th {\n",
       "        vertical-align: top;\n",
       "    }\n",
       "\n",
       "    .dataframe thead th {\n",
       "        text-align: right;\n",
       "    }\n",
       "</style>\n",
       "<table border=\"1\" class=\"dataframe\">\n",
       "  <thead>\n",
       "    <tr style=\"text-align: right;\">\n",
       "      <th></th>\n",
       "      <th>SME</th>\n",
       "      <th>df</th>\n",
       "      <th>SSE</th>\n",
       "    </tr>\n",
       "  </thead>\n",
       "  <tbody>\n",
       "    <tr>\n",
       "      <th>model</th>\n",
       "      <td>425.825524</td>\n",
       "      <td>4.0</td>\n",
       "      <td>1703.302097</td>\n",
       "    </tr>\n",
       "    <tr>\n",
       "      <th>residuals</th>\n",
       "      <td>1.087556</td>\n",
       "      <td>25.0</td>\n",
       "      <td>27.188903</td>\n",
       "    </tr>\n",
       "    <tr>\n",
       "      <th>total</th>\n",
       "      <td>59.672103</td>\n",
       "      <td>29.0</td>\n",
       "      <td>1730.491001</td>\n",
       "    </tr>\n",
       "  </tbody>\n",
       "</table>\n",
       "</div>"
      ],
      "text/plain": [
       "                  SME    df          SSE\n",
       "model      425.825524   4.0  1703.302097\n",
       "residuals    1.087556  25.0    27.188903\n",
       "total       59.672103  29.0  1730.491001"
      ]
     },
     "execution_count": 6,
     "metadata": {},
     "output_type": "execute_result"
    }
   ],
   "source": [
    "#MSE\n",
    "dfe = pd.DataFrame({\"model\":{\"SME\":est_fit.mse_model,\"df\":est_fit.df_model},\n",
    "              \"residuals\":{\"SME\":est_fit.mse_resid,\"df\":est_fit.df_resid},\n",
    "              \"total\":{\"SME\":est_fit.mse_total,\"df\":est_fit.df_model+est_fit.df_resid}\n",
    "            }).T\n",
    "dfe[\"SSE\"]= dfe[\"SME\"]*dfe[\"df\"]\n",
    "\n",
    "dfe"
   ]
  },
  {
   "cell_type": "code",
   "execution_count": 7,
   "metadata": {},
   "outputs": [
    {
     "data": {
      "text/plain": [
       "0.9842883300239482"
      ]
     },
     "execution_count": 7,
     "metadata": {},
     "output_type": "execute_result"
    }
   ],
   "source": [
    "#R_squared\n",
    "1-dfe.loc[\"residuals\",\"SSE\"]/dfe.loc[\"total\",\"SSE\"]"
   ]
  },
  {
   "cell_type": "code",
   "execution_count": 8,
   "metadata": {},
   "outputs": [
    {
     "name": "stdout",
     "output_type": "stream",
     "text": [
      "f=391.5434878677101, model_df = 4.0, residual_df = 25.0 -> P>f = 1.1102230246251565e-16\n"
     ]
    }
   ],
   "source": [
    "#F-statistic\n",
    "f_value = dfe.loc[\"model\",\"SME\"]/dfe.loc[\"residuals\",\"SME\"]\n",
    "\n",
    "pf = 1 - f.cdf(f_value,dfe.loc[\"model\",\"df\"],dfe.loc[\"residuals\",\"df\"])\n",
    "\n",
    "print(\"f={}, model_df = {}, residual_df = {} -> P>f = {}\".format(f_value, dfe.loc[\"model\",\"df\"],dfe.loc[\"residuals\",\"df\"],pf))"
   ]
  },
  {
   "cell_type": "code",
   "execution_count": 9,
   "metadata": {},
   "outputs": [
    {
     "data": {
      "text/plain": [
       "391.5434878677101"
      ]
     },
     "execution_count": 9,
     "metadata": {},
     "output_type": "execute_result"
    }
   ],
   "source": [
    "est_fit.fvalue"
   ]
  },
  {
   "cell_type": "code",
   "execution_count": 98,
   "metadata": {},
   "outputs": [
    {
     "data": {
      "text/plain": [
       "<bound method LikelihoodModelResults.f_test of <statsmodels.regression.linear_model.OLSResults object at 0x0000027E941CE260>>"
      ]
     },
     "execution_count": 98,
     "metadata": {},
     "output_type": "execute_result"
    }
   ],
   "source": [
    "est_fit.f_test"
   ]
  },
  {
   "cell_type": "code",
   "execution_count": 13,
   "metadata": {},
   "outputs": [
    {
     "data": {
      "text/plain": [
       "const    8.584818\n",
       "x_1      4.148670\n",
       "x_2     -3.043199\n",
       "x_3      0.534070\n",
       "x_4      2.901453\n",
       "dtype: float64"
      ]
     },
     "execution_count": 13,
     "metadata": {},
     "output_type": "execute_result"
    }
   ],
   "source": [
    "est_fit.params"
   ]
  },
  {
   "cell_type": "code",
   "execution_count": 19,
   "metadata": {},
   "outputs": [
    {
     "data": {
      "text/plain": [
       "27.188903498525477"
      ]
     },
     "execution_count": 19,
     "metadata": {},
     "output_type": "execute_result"
    }
   ],
   "source": []
  },
  {
   "cell_type": "code",
   "execution_count": 12,
   "metadata": {},
   "outputs": [
    {
     "data": {
      "text/plain": [
       "0     39.225173\n",
       "1     23.939333\n",
       "2     32.075193\n",
       "3     22.912338\n",
       "4     28.848238\n",
       "5     32.210296\n",
       "6     35.483469\n",
       "7     35.983511\n",
       "8     33.136094\n",
       "9     28.638358\n",
       "10    47.994275\n",
       "11    15.780199\n",
       "12    27.981217\n",
       "13    42.672202\n",
       "14    16.750609\n",
       "15    27.207327\n",
       "16    21.915417\n",
       "17    26.672734\n",
       "18    27.603756\n",
       "19    37.048320\n",
       "20    28.021188\n",
       "21    36.110934\n",
       "22    24.662749\n",
       "23    27.047579\n",
       "24    25.131135\n",
       "25    27.849770\n",
       "26    46.611966\n",
       "27    33.211652\n",
       "28    32.965828\n",
       "29    37.282262\n",
       "dtype: float64"
      ]
     },
     "execution_count": 12,
     "metadata": {},
     "output_type": "execute_result"
    }
   ],
   "source": [
    "est_fit.fittedvalues"
   ]
  },
  {
   "cell_type": "code",
   "execution_count": null,
   "metadata": {},
   "outputs": [],
   "source": []
  }
 ],
 "metadata": {
  "kernelspec": {
   "display_name": "myenv",
   "language": "python",
   "name": "python3"
  },
  "language_info": {
   "codemirror_mode": {
    "name": "ipython",
    "version": 3
   },
   "file_extension": ".py",
   "mimetype": "text/x-python",
   "name": "python",
   "nbconvert_exporter": "python",
   "pygments_lexer": "ipython3",
   "version": "3.10.7"
  },
  "orig_nbformat": 4
 },
 "nbformat": 4,
 "nbformat_minor": 2
}

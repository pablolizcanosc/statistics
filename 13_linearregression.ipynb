{
 "cells": [
  {
   "cell_type": "code",
   "execution_count": 1,
   "metadata": {},
   "outputs": [],
   "source": [
    "import numpy as np\n",
    "from scipy.stats import uniform, norm, f, t\n",
    "import pandas as pd\n",
    "import statsmodels.api as sm\n",
    "np.random.seed(314)\n"
   ]
  },
  {
   "cell_type": "code",
   "execution_count": 2,
   "metadata": {},
   "outputs": [],
   "source": [
    "n = 30\n",
    "param = 5\n",
    "X = uniform.rvs(loc = np.array([[-1,-3,1,1,-4][:param]]), scale =  np.array([[2,4,9,9,3][:param]]), size = (n,param))\n",
    "b = np.array([[4, -3, 0.5, 3, 0][:param]]).T\n",
    "cons = 3\n",
    "model_error = norm.rvs(loc=0, scale = 1, size= (n,1))\n",
    "y = cons + np.matmul(X,b)+model_error"
   ]
  },
  {
   "cell_type": "code",
   "execution_count": 3,
   "metadata": {},
   "outputs": [],
   "source": [
    "X = pd.DataFrame(X)\n",
    "X = sm.add_constant(X)"
   ]
  },
  {
   "attachments": {},
   "cell_type": "markdown",
   "metadata": {},
   "source": [
    "df residual = no. observations - no. parameters (intercept is counted)\n",
    "\n",
    "df model = no. regressors (intercept is not counted)"
   ]
  },
  {
   "cell_type": "code",
   "execution_count": 4,
   "metadata": {},
   "outputs": [
    {
     "name": "stdout",
     "output_type": "stream",
     "text": [
      "dof_res: 24, dof_model: 5\n"
     ]
    }
   ],
   "source": [
    "dof_res = len(X)-len(X.columns)\n",
    "dof_model = len([col for col in X.columns if col!=\"const\"])\n",
    "print(\"dof_res: {}, dof_model: {}\".format(dof_res, dof_model))"
   ]
  },
  {
   "cell_type": "code",
   "execution_count": 5,
   "metadata": {},
   "outputs": [
    {
     "name": "stdout",
     "output_type": "stream",
     "text": [
      "                            OLS Regression Results                            \n",
      "==============================================================================\n",
      "Dep. Variable:                      y   R-squared:                       0.992\n",
      "Model:                            OLS   Adj. R-squared:                  0.990\n",
      "Method:                 Least Squares   F-statistic:                     603.3\n",
      "Date:                Fri, 09 Jun 2023   Prob (F-statistic):           2.10e-24\n",
      "Time:                        18:51:05   Log-Likelihood:                -35.961\n",
      "No. Observations:                  30   AIC:                             83.92\n",
      "Df Residuals:                      24   BIC:                             92.33\n",
      "Df Model:                           5                                         \n",
      "Covariance Type:            nonrobust                                         \n",
      "==============================================================================\n",
      "                 coef    std err          t      P>|t|      [0.025      0.975]\n",
      "------------------------------------------------------------------------------\n",
      "const          3.4325      0.755      4.545      0.000       1.874       4.991\n",
      "0              4.0252      0.277     14.541      0.000       3.454       4.597\n",
      "1             -2.7217      0.149    -18.211      0.000      -3.030      -2.413\n",
      "2              0.3802      0.082      4.647      0.000       0.211       0.549\n",
      "3              3.0014      0.067     45.033      0.000       2.864       3.139\n",
      "4             -0.2526      0.204     -1.238      0.228      -0.674       0.168\n",
      "==============================================================================\n",
      "Omnibus:                        1.591   Durbin-Watson:                   1.728\n",
      "Prob(Omnibus):                  0.451   Jarque-Bera (JB):                0.549\n",
      "Skew:                          -0.077   Prob(JB):                        0.760\n",
      "Kurtosis:                       3.645   Cond. No.                         40.9\n",
      "==============================================================================\n",
      "\n",
      "Notes:\n",
      "[1] Standard Errors assume that the covariance matrix of the errors is correctly specified.\n"
     ]
    }
   ],
   "source": [
    "est = sm.OLS(y,X)\n",
    "est_fit = est.fit()\n",
    "print(est_fit.summary())"
   ]
  },
  {
   "cell_type": "code",
   "execution_count": 6,
   "metadata": {},
   "outputs": [
    {
     "data": {
      "text/html": [
       "<div>\n",
       "<style scoped>\n",
       "    .dataframe tbody tr th:only-of-type {\n",
       "        vertical-align: middle;\n",
       "    }\n",
       "\n",
       "    .dataframe tbody tr th {\n",
       "        vertical-align: top;\n",
       "    }\n",
       "\n",
       "    .dataframe thead th {\n",
       "        text-align: right;\n",
       "    }\n",
       "</style>\n",
       "<table border=\"1\" class=\"dataframe\">\n",
       "  <thead>\n",
       "    <tr style=\"text-align: right;\">\n",
       "      <th></th>\n",
       "      <th>t</th>\n",
       "      <th>p&gt;|t|</th>\n",
       "      <th>ci_inf</th>\n",
       "      <th>ci_sum</th>\n",
       "    </tr>\n",
       "  </thead>\n",
       "  <tbody>\n",
       "    <tr>\n",
       "      <th>const</th>\n",
       "      <td>4.544802</td>\n",
       "      <td>1.321524e-04</td>\n",
       "      <td>1.873726</td>\n",
       "      <td>4.991285</td>\n",
       "    </tr>\n",
       "    <tr>\n",
       "      <th>0</th>\n",
       "      <td>14.540670</td>\n",
       "      <td>2.131628e-13</td>\n",
       "      <td>3.453906</td>\n",
       "      <td>4.596592</td>\n",
       "    </tr>\n",
       "    <tr>\n",
       "      <th>1</th>\n",
       "      <td>-18.210840</td>\n",
       "      <td>1.554312e-15</td>\n",
       "      <td>-3.030118</td>\n",
       "      <td>-2.413207</td>\n",
       "    </tr>\n",
       "    <tr>\n",
       "      <th>2</th>\n",
       "      <td>4.646509</td>\n",
       "      <td>1.020226e-04</td>\n",
       "      <td>0.211314</td>\n",
       "      <td>0.549059</td>\n",
       "    </tr>\n",
       "    <tr>\n",
       "      <th>3</th>\n",
       "      <td>45.033457</td>\n",
       "      <td>0.000000e+00</td>\n",
       "      <td>2.863857</td>\n",
       "      <td>3.138969</td>\n",
       "    </tr>\n",
       "    <tr>\n",
       "      <th>4</th>\n",
       "      <td>-1.238184</td>\n",
       "      <td>2.276232e-01</td>\n",
       "      <td>-0.673719</td>\n",
       "      <td>0.168469</td>\n",
       "    </tr>\n",
       "  </tbody>\n",
       "</table>\n",
       "</div>"
      ],
      "text/plain": [
       "               t         p>|t|    ci_inf    ci_sum\n",
       "const   4.544802  1.321524e-04  1.873726  4.991285\n",
       "0      14.540670  2.131628e-13  3.453906  4.596592\n",
       "1     -18.210840  1.554312e-15 -3.030118 -2.413207\n",
       "2       4.646509  1.020226e-04  0.211314  0.549059\n",
       "3      45.033457  0.000000e+00  2.863857  3.138969\n",
       "4      -1.238184  2.276232e-01 -0.673719  0.168469"
      ]
     },
     "execution_count": 6,
     "metadata": {},
     "output_type": "execute_result"
    }
   ],
   "source": [
    "lim_inf = t.ppf(0.025,est_fit.df_resid)*est_fit.bse+est_fit.params\n",
    "lim_sup = t.ppf(0.975,est_fit.df_resid)*est_fit.bse+est_fit.params\n",
    "tvalue= est_fit.params/est_fit.bse\n",
    "pt = tvalue.apply(lambda x: 2 - 2*t.cdf(abs(x),est_fit.df_resid))\n",
    "pd.DataFrame({\"t\":tvalue, \"p>|t|\":pt,\"ci_inf\":lim_inf,\"ci_sum\":lim_sup})"
   ]
  },
  {
   "cell_type": "code",
   "execution_count": 7,
   "metadata": {},
   "outputs": [
    {
     "data": {
      "text/plain": [
       "{'model_sse': 2427.2334575486807,\n",
       " 'residuals_sse': 19.311895268611927,\n",
       " 'total_sse': 2446.54535281729}"
      ]
     },
     "execution_count": 7,
     "metadata": {},
     "output_type": "execute_result"
    }
   ],
   "source": [
    "{\"model_sse\":((est_fit.fittedvalues-y.mean())**2).sum(),\n",
    "\"residuals_sse\":((est_fit.fittedvalues-y.squeeze())**2).sum(),\n",
    "\"total_sse\":((y.mean()-y)**2).sum()}"
   ]
  },
  {
   "cell_type": "code",
   "execution_count": 8,
   "metadata": {},
   "outputs": [
    {
     "data": {
      "text/html": [
       "<div>\n",
       "<style scoped>\n",
       "    .dataframe tbody tr th:only-of-type {\n",
       "        vertical-align: middle;\n",
       "    }\n",
       "\n",
       "    .dataframe tbody tr th {\n",
       "        vertical-align: top;\n",
       "    }\n",
       "\n",
       "    .dataframe thead th {\n",
       "        text-align: right;\n",
       "    }\n",
       "</style>\n",
       "<table border=\"1\" class=\"dataframe\">\n",
       "  <thead>\n",
       "    <tr style=\"text-align: right;\">\n",
       "      <th></th>\n",
       "      <th>SME</th>\n",
       "      <th>df</th>\n",
       "      <th>SSE</th>\n",
       "    </tr>\n",
       "  </thead>\n",
       "  <tbody>\n",
       "    <tr>\n",
       "      <th>model</th>\n",
       "      <td>485.446692</td>\n",
       "      <td>5.0</td>\n",
       "      <td>2427.233458</td>\n",
       "    </tr>\n",
       "    <tr>\n",
       "      <th>residuals</th>\n",
       "      <td>0.804662</td>\n",
       "      <td>24.0</td>\n",
       "      <td>19.311895</td>\n",
       "    </tr>\n",
       "    <tr>\n",
       "      <th>total</th>\n",
       "      <td>84.363633</td>\n",
       "      <td>29.0</td>\n",
       "      <td>2446.545353</td>\n",
       "    </tr>\n",
       "  </tbody>\n",
       "</table>\n",
       "</div>"
      ],
      "text/plain": [
       "                  SME    df          SSE\n",
       "model      485.446692   5.0  2427.233458\n",
       "residuals    0.804662  24.0    19.311895\n",
       "total       84.363633  29.0  2446.545353"
      ]
     },
     "execution_count": 8,
     "metadata": {},
     "output_type": "execute_result"
    }
   ],
   "source": [
    "#MSE\n",
    "dfe = pd.DataFrame({\"model\":{\"SME\":est_fit.mse_model,\"df\":est_fit.df_model},\n",
    "              \"residuals\":{\"SME\":est_fit.mse_resid,\"df\":est_fit.df_resid},\n",
    "              \"total\":{\"SME\":est_fit.mse_total,\"df\":est_fit.df_model+est_fit.df_resid}\n",
    "            }).T\n",
    "dfe[\"SSE\"]= dfe[\"SME\"]*dfe[\"df\"]\n",
    "\n",
    "dfe"
   ]
  },
  {
   "cell_type": "code",
   "execution_count": 9,
   "metadata": {},
   "outputs": [
    {
     "data": {
      "text/plain": [
       "0.9921064634071167"
      ]
     },
     "execution_count": 9,
     "metadata": {},
     "output_type": "execute_result"
    }
   ],
   "source": [
    "#R_squared\n",
    "1-dfe.loc[\"residuals\",\"SSE\"]/dfe.loc[\"total\",\"SSE\"]"
   ]
  },
  {
   "cell_type": "code",
   "execution_count": 10,
   "metadata": {},
   "outputs": [
    {
     "name": "stdout",
     "output_type": "stream",
     "text": [
      "f=603.2924492486163, model_df = 5.0, residual_df = 24.0 -> P>f = 1.1102230246251565e-16\n"
     ]
    }
   ],
   "source": [
    "#F-statistic\n",
    "f_value = dfe.loc[\"model\",\"SME\"]/dfe.loc[\"residuals\",\"SME\"]\n",
    "\n",
    "pf = 1 - f.cdf(f_value,dfe.loc[\"model\",\"df\"],dfe.loc[\"residuals\",\"df\"])\n",
    "\n",
    "print(\"f={}, model_df = {}, residual_df = {} -> P>f = {}\".format(f_value, dfe.loc[\"model\",\"df\"],dfe.loc[\"residuals\",\"df\"],pf))"
   ]
  },
  {
   "cell_type": "code",
   "execution_count": 14,
   "metadata": {},
   "outputs": [
    {
     "name": "stdout",
     "output_type": "stream",
     "text": [
      "The real value of the first observation is 35.36942031398361, we have predicted 34.30606626720518\n"
     ]
    }
   ],
   "source": [
    "print(\"The real value of the first observation is {}, we have predicted {}\".format(y[0,0],est_fit.predict(X.iloc[0]).iloc[0]))"
   ]
  },
  {
   "cell_type": "code",
   "execution_count": 15,
   "metadata": {},
   "outputs": [
    {
     "data": {
      "text/plain": [
       "array([[33.40933472, 35.20279781]])"
      ]
     },
     "execution_count": 15,
     "metadata": {},
     "output_type": "execute_result"
    }
   ],
   "source": [
    "#Mean 95% CI estimation\n",
    "est_fit.get_prediction(X.iloc[0]).conf_int(obs=False)"
   ]
  },
  {
   "cell_type": "code",
   "execution_count": 16,
   "metadata": {},
   "outputs": [
    {
     "data": {
      "text/plain": [
       "array([[32.24894955, 36.36318298]])"
      ]
     },
     "execution_count": 16,
     "metadata": {},
     "output_type": "execute_result"
    }
   ],
   "source": [
    "#Value 95% CI estimation\n",
    "est_fit.get_prediction(X.iloc[0]).conf_int(obs=True)"
   ]
  },
  {
   "cell_type": "code",
   "execution_count": 17,
   "metadata": {},
   "outputs": [
    {
     "data": {
      "text/plain": [
       "0.2607257169393112"
      ]
     },
     "execution_count": 17,
     "metadata": {},
     "output_type": "execute_result"
    }
   ],
   "source": [
    "#std err - lr 1 independent variable. some correlation terms lack for other cases\n",
    "np.sqrt(est_fit.mse_resid/((X - X.mean(axis=0))**2).sum(axis=0))[0]"
   ]
  },
  {
   "cell_type": "code",
   "execution_count": null,
   "metadata": {},
   "outputs": [],
   "source": []
  }
 ],
 "metadata": {
  "kernelspec": {
   "display_name": "myenv",
   "language": "python",
   "name": "python3"
  },
  "language_info": {
   "codemirror_mode": {
    "name": "ipython",
    "version": 3
   },
   "file_extension": ".py",
   "mimetype": "text/x-python",
   "name": "python",
   "nbconvert_exporter": "python",
   "pygments_lexer": "ipython3",
   "version": "3.10.7"
  },
  "orig_nbformat": 4
 },
 "nbformat": 4,
 "nbformat_minor": 2
}

{
 "cells": [
  {
   "cell_type": "code",
   "execution_count": null,
   "metadata": {},
   "outputs": [],
   "source": [
    "#https://docs.scipy.org/doc/scipy/reference/generated/scipy.stats.chisquare.html"
   ]
  },
  {
   "cell_type": "code",
   "execution_count": 13,
   "metadata": {},
   "outputs": [],
   "source": [
    "from scipy.stats import erlang\n",
    "import numpy as np"
   ]
  },
  {
   "attachments": {},
   "cell_type": "markdown",
   "metadata": {},
   "source": [
    "# Erlang distribution"
   ]
  },
  {
   "cell_type": "code",
   "execution_count": 7,
   "metadata": {},
   "outputs": [],
   "source": [
    "sample = erlang.rvs(5,scale=1/5, size=100)"
   ]
  },
  {
   "cell_type": "code",
   "execution_count": 21,
   "metadata": {},
   "outputs": [
    {
     "data": {
      "text/plain": [
       "array([0.51598827, 1.27232071, 0.48551519, 0.95916826, 0.88713397,\n",
       "       1.41361648, 1.06442523, 0.61831219, 1.50004312, 0.75950666,\n",
       "       0.89017417, 0.75908906, 0.54629839, 1.06838066, 2.89859954,\n",
       "       0.34966947, 1.12062137, 1.85155324, 0.66842433, 1.19559213,\n",
       "       1.04053165, 0.84714412, 1.10742595, 0.70917263, 0.39811271,\n",
       "       1.53757464, 1.15015735, 0.52550019, 1.20672221, 0.62913321,\n",
       "       0.50923665, 0.90940873, 0.81338793, 2.15175989, 0.74348457,\n",
       "       0.63946489, 0.67399423, 1.28487579, 1.84142496, 0.56509513,\n",
       "       0.56824287, 1.22348378, 1.52134132, 0.88505784, 0.90353673,\n",
       "       1.19288205, 2.47745526, 0.68142706, 0.77255264, 1.2179498 ,\n",
       "       1.74913652, 0.68334147, 1.50763616, 1.11793848, 0.78246335,\n",
       "       0.66959593, 1.40654054, 1.25704295, 1.00909297, 0.65394854,\n",
       "       1.00243042, 0.5320824 , 1.16261259, 1.08849887, 0.99715349,\n",
       "       1.09830269, 1.72354063, 0.77678806, 1.50078098, 0.7696125 ,\n",
       "       1.17044929, 0.50364611, 0.53360962, 1.49598765, 1.69073218,\n",
       "       1.97842417, 0.28699124, 1.1972522 , 0.60955842, 1.15702026,\n",
       "       1.31044455, 0.60481539, 0.97616176, 1.29163435, 1.05520628,\n",
       "       1.66740351, 1.05892433, 1.20297958, 0.74628797, 1.7329666 ,\n",
       "       1.67300085, 0.86935097, 1.06677782, 0.82522591, 0.96281497,\n",
       "       0.88785901, 0.88080143, 0.84072582, 0.98652839, 1.0814369 ])"
      ]
     },
     "execution_count": 21,
     "metadata": {},
     "output_type": "execute_result"
    }
   ],
   "source": [
    "sample"
   ]
  },
  {
   "cell_type": "code",
   "execution_count": 25,
   "metadata": {},
   "outputs": [],
   "source": [
    "percentile_limit = np.percentile(sample, np.linspace(10,100,10))\n",
    "total = [0]+list(percentile_limit)"
   ]
  },
  {
   "cell_type": "code",
   "execution_count": 30,
   "metadata": {},
   "outputs": [
    {
     "data": {
      "text/plain": [
       "0.9987474339841871"
      ]
     },
     "execution_count": 30,
     "metadata": {},
     "output_type": "execute_result"
    }
   ],
   "source": [
    "erlang.cdf(total[i],  a= 5, scale = 1/5)"
   ]
  },
  {
   "cell_type": "code",
   "execution_count": 31,
   "metadata": {},
   "outputs": [
    {
     "name": "stdout",
     "output_type": "stream",
     "text": [
      "14.085702151448903\n",
      "10\n",
      "10.512481588712907\n",
      "10\n",
      "9.75316405131838\n",
      "10\n",
      "11.13369181252698\n",
      "10\n",
      "10.447377478177255\n",
      "10\n",
      "7.722216935550385\n",
      "10\n",
      "7.577191762501756\n",
      "10\n",
      "8.012560818722347\n",
      "10\n",
      "12.742056497224908\n",
      "10\n",
      "7.888300302234885\n",
      "9\n",
      "0.1252566015812917\n"
     ]
    }
   ],
   "source": [
    "for i in range(1,11):\n",
    "    print((erlang.cdf(total[i],  a= 5, scale = 1/5)-erlang.cdf(total[i-1], a= 5, scale = 1/5))*100)\n",
    "    print(sum((sample<total[i]) & (sample>total[i-1])))\n",
    "print((1-erlang.cdf(total[i],  a= 5, scale = 1/5))*100)"
   ]
  },
  {
   "cell_type": "code",
   "execution_count": 23,
   "metadata": {},
   "outputs": [
    {
     "data": {
      "text/plain": [
       "array([ 10.,  20.,  30.,  40.,  50.,  60.,  70.,  80.,  90., 100.])"
      ]
     },
     "execution_count": 23,
     "metadata": {},
     "output_type": "execute_result"
    }
   ],
   "source": [
    "np.linspace(10,100,10)"
   ]
  },
  {
   "cell_type": "code",
   "execution_count": 8,
   "metadata": {},
   "outputs": [
    {
     "data": {
      "text/plain": [
       "1.0538552632005556"
      ]
     },
     "execution_count": 8,
     "metadata": {},
     "output_type": "execute_result"
    }
   ],
   "source": [
    "sample.mean()"
   ]
  },
  {
   "cell_type": "code",
   "execution_count": 10,
   "metadata": {},
   "outputs": [
    {
     "data": {
      "text/plain": [
       "0.20641903748002846"
      ]
     },
     "execution_count": 10,
     "metadata": {},
     "output_type": "execute_result"
    }
   ],
   "source": [
    "sample.std()**2"
   ]
  },
  {
   "cell_type": "code",
   "execution_count": null,
   "metadata": {},
   "outputs": [],
   "source": []
  }
 ],
 "metadata": {
  "kernelspec": {
   "display_name": "myenv",
   "language": "python",
   "name": "python3"
  },
  "language_info": {
   "codemirror_mode": {
    "name": "ipython",
    "version": 3
   },
   "file_extension": ".py",
   "mimetype": "text/x-python",
   "name": "python",
   "nbconvert_exporter": "python",
   "pygments_lexer": "ipython3",
   "version": "3.10.7"
  },
  "orig_nbformat": 4
 },
 "nbformat": 4,
 "nbformat_minor": 2
}

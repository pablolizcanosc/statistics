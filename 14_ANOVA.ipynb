{
 "cells": [
  {
   "cell_type": "code",
   "execution_count": 4,
   "metadata": {},
   "outputs": [],
   "source": [
    "from scipy.stats import f_oneway, norm\n",
    "import numpy as np"
   ]
  },
  {
   "cell_type": "code",
   "execution_count": 21,
   "metadata": {},
   "outputs": [],
   "source": [
    "pop = norm.rvs(loc=np.array([[10,20,30,40,50]]), scale=4,size=(10,5)).T"
   ]
  },
  {
   "cell_type": "code",
   "execution_count": 10,
   "metadata": {},
   "outputs": [
    {
     "data": {
      "text/plain": [
       "[array([ 4.97045987, 24.30737686, 30.56213819, 35.44482802, 53.58071245]),\n",
       " array([ 5.59727084, 24.37463996, 27.8372555 , 38.71456609, 47.5223935 ]),\n",
       " array([12.36784804, 19.70651761, 27.50321387, 33.30477492, 47.92118057]),\n",
       " array([ 5.36784487, 23.04075182, 30.87998347, 40.01209432, 52.27714574]),\n",
       " array([19.26159641, 18.02142983, 24.4460675 , 43.44600062, 50.47523277]),\n",
       " array([12.27274695, 21.35110518, 26.19219284, 34.90730508, 47.35440018]),\n",
       " array([10.8889052 , 19.64523223, 32.5983322 , 40.08534694, 49.00279112]),\n",
       " array([13.86839823, 24.12446078, 24.36173535, 33.71867365, 52.37176447]),\n",
       " array([16.1689341 , 17.06283729, 29.79707462, 38.27713198, 48.61346183]),\n",
       " array([ 2.04975028, 13.9405593 , 33.83930173, 43.92472513, 52.52952149])]"
      ]
     },
     "execution_count": 10,
     "metadata": {},
     "output_type": "execute_result"
    }
   ],
   "source": [
    "list(pop)"
   ]
  },
  {
   "cell_type": "code",
   "execution_count": 29,
   "metadata": {},
   "outputs": [
    {
     "data": {
      "text/plain": [
       "F_onewayResult(statistic=133.16346285125456, pvalue=2.4955292429968356e-24)"
      ]
     },
     "execution_count": 29,
     "metadata": {},
     "output_type": "execute_result"
    }
   ],
   "source": [
    "f_oneway(*pop)"
   ]
  },
  {
   "cell_type": "code",
   "execution_count": 22,
   "metadata": {},
   "outputs": [
    {
     "data": {
      "text/plain": [
       "F_onewayResult(statistic=65.82885870595447, pvalue=4.141756772673157e-11)"
      ]
     },
     "execution_count": 22,
     "metadata": {},
     "output_type": "execute_result"
    }
   ],
   "source": [
    "f_oneway(pop[0],pop[1],pop[2])"
   ]
  },
  {
   "cell_type": "code",
   "execution_count": 28,
   "metadata": {},
   "outputs": [
    {
     "data": {
      "text/plain": [
       "F_onewayResult(statistic=26.8431284654707, pvalue=5.96367579492777e-07)"
      ]
     },
     "execution_count": 28,
     "metadata": {},
     "output_type": "execute_result"
    }
   ],
   "source": [
    "f_oneway(norm.rvs(loc=10, scale=4,size=10),norm.rvs(loc=15, scale=3,size=13),norm.rvs(loc=1, scale=3,size=5))"
   ]
  },
  {
   "cell_type": "code",
   "execution_count": null,
   "metadata": {},
   "outputs": [],
   "source": []
  }
 ],
 "metadata": {
  "kernelspec": {
   "display_name": "myenv",
   "language": "python",
   "name": "python3"
  },
  "language_info": {
   "codemirror_mode": {
    "name": "ipython",
    "version": 3
   },
   "file_extension": ".py",
   "mimetype": "text/x-python",
   "name": "python",
   "nbconvert_exporter": "python",
   "pygments_lexer": "ipython3",
   "version": "3.10.7"
  },
  "orig_nbformat": 4
 },
 "nbformat": 4,
 "nbformat_minor": 2
}
